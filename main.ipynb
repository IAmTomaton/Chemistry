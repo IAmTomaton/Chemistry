{
 "cells": [
  {
   "cell_type": "code",
   "execution_count": 56,
   "outputs": [],
   "source": [
    "import math\n",
    "import os\n",
    "import random\n",
    "import re\n",
    "\n",
    "import matplotlib.pyplot as plt\n",
    "import numpy as np\n",
    "import torch\n",
    "from torch import nn\n",
    "from torch.utils.data import TensorDataset\n",
    "\n",
    "device = torch.device(\"cuda\" if torch.cuda.is_available() else \"cpu\")\n",
    "\n",
    "random.seed(1)\n",
    "np.random.seed(1)\n",
    "torch.manual_seed(1)\n",
    "torch.cuda.manual_seed(1)\n",
    "torch.backends.cudnn.deterministic = True"
   ],
   "metadata": {
    "collapsed": false
   }
  },
  {
   "cell_type": "code",
   "execution_count": 57,
   "outputs": [],
   "source": [
    "def read_file(file_name):\n",
    "    with open(file_name, 'r') as file:\n",
    "        return list((map(lambda l: list(map(float, l.split(','))), file.readlines())))"
   ],
   "metadata": {
    "collapsed": false
   }
  },
  {
   "cell_type": "code",
   "execution_count": 58,
   "outputs": [],
   "source": [
    "def parse_params(file_name):\n",
    "    params = re.findall(r'([a-zA-Z]+)(\\d+(\\.\\d+)?)', file_name)\n",
    "    return dict(map(lambda p: (p[0], float(p[1])), params))"
   ],
   "metadata": {
    "collapsed": false
   }
  },
  {
   "cell_type": "code",
   "execution_count": 59,
   "outputs": [],
   "source": [
    "def convert_x_train(x_train):\n",
    "    x_train = np.array(x_train)\n",
    "\n",
    "    t_count = len(np.unique(x_train[:, 0]))\n",
    "    mu_count = len(np.unique(x_train[:, 1]))\n",
    "\n",
    "    x_train = x_train[:t_count * mu_count]\n",
    "    x_train = x_train.reshape((t_count, mu_count, -1))\n",
    "    x_train = np.moveaxis(x_train, -1, 0)\n",
    "\n",
    "    x_train = x_train[[3, 6, 10, 12, 13]]\n",
    "\n",
    "    return x_train\n",
    "\n",
    "\n",
    "def load_data(data_folder):\n",
    "    x_train_list = []\n",
    "    y_train_list = []\n",
    "    for file_name in os.listdir(data_folder):\n",
    "        params = parse_params(file_name)\n",
    "        y_train_list.append([params['V']])\n",
    "        x_train = convert_x_train(read_file(os.path.join(data_folder, file_name)))\n",
    "        x_train_list.append(x_train)\n",
    "    return torch.FloatTensor(np.array(x_train_list)).to(device), torch.FloatTensor(np.array(y_train_list)).to(device)"
   ],
   "metadata": {
    "collapsed": false
   }
  },
  {
   "cell_type": "code",
   "execution_count": 60,
   "outputs": [],
   "source": [
    "def get_train_dataloader(x_train, y_train, batch_size):\n",
    "    train_dataloader = torch.utils.data.DataLoader(TensorDataset(x_train, y_train), batch_size=batch_size, shuffle=True,\n",
    "                                                   num_workers=0)\n",
    "    return train_dataloader"
   ],
   "metadata": {
    "collapsed": false
   }
  },
  {
   "cell_type": "code",
   "execution_count": 61,
   "outputs": [],
   "source": [
    "def get_test_dataloader(x_test, y_test, batch_size):\n",
    "    test_dataloader = torch.utils.data.DataLoader(TensorDataset(x_test, y_test), batch_size=batch_size, shuffle=False,\n",
    "                                                  num_workers=0)\n",
    "    return test_dataloader"
   ],
   "metadata": {
    "collapsed": false
   }
  },
  {
   "cell_type": "code",
   "execution_count": 62,
   "outputs": [],
   "source": [
    "def split_x_train(x_train: torch.FloatTensor, y_train: torch.FloatTensor, test_size):\n",
    "    # test_i = random.Random().sample(range(x_train.size()[0]), test_size)\n",
    "    test_i = [random.randint(0, x_train.size()[0]) for _ in range(test_size)]\n",
    "    # test_i = [68, 66, 67, 33, 59, 65, 35, 12, 32, 46, 3, 42, 13, 73, 37, 5]\n",
    "\n",
    "    test_i.sort()\n",
    "    print('test files', test_i)\n",
    "\n",
    "    x_test = x_train.index_select(0, torch.IntTensor(test_i).to(device))\n",
    "    y_test = y_train.index_select(0, torch.IntTensor(test_i).to(device))\n",
    "\n",
    "    index = torch.BoolTensor(x_train.size()[0]).fill_(True)\n",
    "    index[test_i] = False\n",
    "    new_x_train = x_train[index]\n",
    "    new_y_train = y_train[index]\n",
    "\n",
    "    return new_x_train.detach(), new_y_train.detach(), x_test.detach(), y_test.detach()"
   ],
   "metadata": {
    "collapsed": false
   }
  },
  {
   "cell_type": "code",
   "execution_count": 63,
   "outputs": [],
   "source": [
    "def get_model(input_dim, output_dim):\n",
    "    conv_part = nn.Sequential(\n",
    "        nn.Sequential(\n",
    "            nn.Conv2d(input_dim[0], 16, kernel_size=3, stride=1, padding=0),\n",
    "            nn.Conv2d(16, 16, kernel_size=3, stride=1, padding=0),\n",
    "            nn.BatchNorm2d(16),\n",
    "            nn.ReLU(),\n",
    "            nn.MaxPool2d(kernel_size=2, stride=2)),\n",
    "        nn.Sequential(\n",
    "            nn.Conv2d(16, 32, kernel_size=3, stride=1, padding=0),\n",
    "            nn.Conv2d(32, 32, kernel_size=3, stride=1, padding=0),\n",
    "            nn.BatchNorm2d(32),\n",
    "            nn.ReLU(),\n",
    "            nn.MaxPool2d(kernel_size=2, stride=2)),\n",
    "        nn.Sequential(\n",
    "            nn.Conv2d(32, 64, kernel_size=3, stride=1, padding=0),\n",
    "            nn.Conv2d(64, 64, kernel_size=3, stride=1, padding=0),\n",
    "            nn.BatchNorm2d(64),\n",
    "            nn.ReLU(),\n",
    "            nn.MaxPool2d(kernel_size=2, stride=2)),\n",
    "        nn.Flatten())\n",
    "\n",
    "    x = torch.unsqueeze(torch.zeros(input_dim), 0)\n",
    "    size = conv_part.forward(x).size()[1]\n",
    "    print('Flatten size:', size)\n",
    "\n",
    "    model = nn.Sequential(\n",
    "        conv_part,\n",
    "        nn.Linear(size, 512),\n",
    "        nn.ReLU(),\n",
    "        nn.Linear(512, 256),\n",
    "        nn.ReLU(),\n",
    "        nn.Linear(256, output_dim)\n",
    "    )\n",
    "    model.to(device)\n",
    "    return model"
   ],
   "metadata": {
    "collapsed": false
   }
  },
  {
   "cell_type": "code",
   "execution_count": 64,
   "outputs": [],
   "source": [
    "def load_model(file, input_dim, output_dim):\n",
    "    model = get_model(input_dim, output_dim)\n",
    "    model.load_state_dict(torch.load(file)['model_state_dict'])\n",
    "    return model"
   ],
   "metadata": {
    "collapsed": false
   }
  },
  {
   "cell_type": "code",
   "execution_count": 65,
   "outputs": [],
   "source": [
    "def train_epoch(model, loss, optimizer, dataloader, do_train):\n",
    "    running_loss = 0.\n",
    "\n",
    "    # Iterate over data.\n",
    "    for inputs, targets in dataloader:\n",
    "        inputs = inputs.to(device)\n",
    "        targets = targets.to(device)\n",
    "\n",
    "        optimizer.zero_grad()\n",
    "\n",
    "        # forward and backward\n",
    "        with torch.set_grad_enabled(do_train):\n",
    "            preds = model(inputs)\n",
    "            loss_value = loss(preds, targets)\n",
    "\n",
    "            # backward + optimize only if in training phase\n",
    "            if do_train:\n",
    "                loss_value.backward()\n",
    "                optimizer.step()\n",
    "\n",
    "        # statistics\n",
    "        running_loss += loss_value.item()\n",
    "\n",
    "    epoch_loss = running_loss / len(dataloader)\n",
    "\n",
    "    return epoch_loss\n",
    "\n",
    "\n",
    "def train_model(model, loss, optimizer, scheduler, train_dataloader, val_dataloader, num_epochs, config):\n",
    "    best_val_loss = math.inf\n",
    "    for epoch in range(num_epochs):\n",
    "\n",
    "        # Each epoch has a training and validation phase\n",
    "        for phase in ['train', 'val']:\n",
    "            if phase == 'train':\n",
    "                dataloader = train_dataloader\n",
    "                model.train()  # Set model to training mode\n",
    "            else:\n",
    "                dataloader = val_dataloader\n",
    "                model.eval()  # Set model to evaluate mode\n",
    "\n",
    "            epoch_loss = train_epoch(model, loss, optimizer, dataloader, phase == 'train')\n",
    "\n",
    "            if phase == 'train':\n",
    "                scheduler.step()\n",
    "\n",
    "            if phase == 'val' and best_val_loss > epoch_loss:\n",
    "                print(epoch_loss)\n",
    "                best_val_loss = epoch_loss\n",
    "                torch.save({\n",
    "                    'epoch': epoch,\n",
    "                    'model_state_dict': model.state_dict(),\n",
    "                    'optimizer_state_dict': optimizer.state_dict(),\n",
    "                    'loss': epoch_loss,\n",
    "                }, f'model.pth')\n",
    "\n",
    "    return model"
   ],
   "metadata": {
    "collapsed": false
   }
  },
  {
   "cell_type": "code",
   "execution_count": 66,
   "outputs": [
    {
     "name": "stdout",
     "output_type": "stream",
     "text": [
      "test files [0, 3, 8, 12, 15, 17, 26, 32, 48, 49, 55, 57, 60, 62, 63, 72]\n"
     ]
    }
   ],
   "source": [
    "data_folder = 'Data'\n",
    "\n",
    "lr = 1e-3\n",
    "epochs = 200\n",
    "batch_size = 8\n",
    "step_size = 20\n",
    "gamma = 0.5\n",
    "\n",
    "config = {\n",
    "    \"lr\": lr,\n",
    "    \"epochs\": epochs,\n",
    "    \"bs\": batch_size,\n",
    "    \"sched\": 'StepLR',\n",
    "    \"sched_ss\": step_size,\n",
    "    \"sched_g\": gamma,\n",
    "    \"optim\": 'Adam',\n",
    "}\n",
    "# important_keys = []\n",
    "# config['exp_name'] = '_'.join(map(lambda key: f\"{key}={config[key]}\", important_keys))\n",
    "# model_file_name = config['exp_name']\n",
    "\n",
    "x_train, y_train = load_data(data_folder)\n",
    "x_train, y_train, x_test, y_test = split_x_train(x_train, y_train, 16)\n",
    "\n",
    "train_dataloader = get_train_dataloader(x_train, y_train, batch_size)\n",
    "test_dataloader = get_test_dataloader(x_test, y_test, batch_size)"
   ],
   "metadata": {
    "collapsed": false
   }
  },
  {
   "cell_type": "code",
   "execution_count": 67,
   "outputs": [
    {
     "name": "stdout",
     "output_type": "stream",
     "text": [
      "Flatten size: 512\n"
     ]
    }
   ],
   "source": [
    "model = get_model(x_train[0].size(), 1)\n",
    "\n",
    "loss_func = torch.nn.L1Loss()\n",
    "optimizer = torch.optim.Adam(model.parameters(), lr=lr)\n",
    "scheduler = torch.optim.lr_scheduler.StepLR(optimizer, step_size=step_size, gamma=gamma)"
   ],
   "metadata": {
    "collapsed": false
   }
  },
  {
   "cell_type": "code",
   "execution_count": 68,
   "outputs": [
    {
     "name": "stdout",
     "output_type": "stream",
     "text": [
      "0.2347538322210312\n",
      "0.05846887640655041\n",
      "0.012194158509373665\n",
      "0.00463566929101944\n",
      "0.0038336627185344696\n",
      "0.0035556387156248093\n",
      "0.0028306394815444946\n",
      "0.0023752860724925995\n",
      "0.002312788739800453\n",
      "0.0014971084892749786\n",
      "0.0009832493960857391\n"
     ]
    }
   ],
   "source": [
    "model = train_model(model, loss_func, optimizer, scheduler, train_dataloader, test_dataloader, epochs, config)"
   ],
   "metadata": {
    "collapsed": false
   }
  },
  {
   "cell_type": "code",
   "execution_count": 69,
   "outputs": [
    {
     "name": "stdout",
     "output_type": "stream",
     "text": [
      "Flatten size: 512\n"
     ]
    }
   ],
   "source": [
    "best_model = load_model(f'model.pth', x_train[0].size(), 1)"
   ],
   "metadata": {
    "collapsed": false
   }
  },
  {
   "cell_type": "code",
   "execution_count": 70,
   "outputs": [],
   "source": [
    "y_test_result = best_model.forward(x_test).detach()\n",
    "y_train_result = best_model.forward(x_train).detach()"
   ],
   "metadata": {
    "collapsed": false
   }
  },
  {
   "cell_type": "code",
   "execution_count": 71,
   "outputs": [
    {
     "data": {
      "text/plain": "<Figure size 800x800 with 2 Axes>",
      "image/png": "[encoded data removed]"
     },
     "metadata": {},
     "output_type": "display_data"
    }
   ],
   "source": [
    "fig = plt.figure(figsize=(8, 8))\n",
    "\n",
    "ax_train = fig.add_subplot(2, 1, 1)\n",
    "ax_train.plot(y_train.cpu().numpy(), 'go', label='train')\n",
    "ax_train.plot(y_train_result.cpu().numpy(), 'ro', label='result')\n",
    "ax_train.set_ylabel('V')\n",
    "ax_train.set_xlabel('num File')\n",
    "ax_train.legend()\n",
    "\n",
    "ax_test = fig.add_subplot(2, 1, 2)\n",
    "ax_test.plot(y_test.cpu().numpy(), 'go', label='test')\n",
    "ax_test.plot(y_test_result.cpu().numpy(), 'ro', label='result')\n",
    "ax_test.set_ylabel('V')\n",
    "ax_test.set_xlabel('num File')\n",
    "ax_test.legend()\n",
    "\n",
    "plt.show()"
   ],
   "metadata": {
    "collapsed": false
   }
  },
  {
   "cell_type": "code",
   "execution_count": 72,
   "outputs": [],
   "source": [
    "def mean_absolute_percentage_error_my(preds, targets):\n",
    "    return ((preds - targets).abs() / targets).sum() / len(targets)"
   ],
   "metadata": {
    "collapsed": false
   }
  },
  {
   "cell_type": "code",
   "execution_count": 73,
   "outputs": [
    {
     "name": "stdout",
     "output_type": "stream",
     "text": [
      "train error 0.0022967872209846973\n",
      "test error 0.006153142545372248\n"
     ]
    }
   ],
   "source": [
    "train_error = mean_absolute_percentage_error_my(y_train_result, y_train).item()\n",
    "print('train error', train_error)\n",
    "test_error = mean_absolute_percentage_error_my(y_test_result, y_test).item()\n",
    "print('test error', test_error)"
   ],
   "metadata": {
    "collapsed": false
   }
  }
 ],
 "metadata": {
  "kernelspec": {
   "display_name": "Python 3",
   "language": "python",
   "name": "python3"
  },
  "language_info": {
   "codemirror_mode": {
    "name": "ipython",
    "version": 2
   },
   "file_extension": ".py",
   "mimetype": "text/x-python",
   "name": "python",
   "nbconvert_exporter": "python",
   "pygments_lexer": "ipython2",
   "version": "2.7.6"
  }
 },
 "nbformat": 4,
 "nbformat_minor": 0
}
