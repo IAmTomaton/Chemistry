{
 "cells": [
  {
   "cell_type": "code",
   "execution_count": 18,
   "outputs": [
    {
     "name": "stdout",
     "output_type": "stream",
     "text": [
      "The autoreload extension is already loaded. To reload it, use:\n",
      "  %reload_ext autoreload\n"
     ]
    }
   ],
   "source": [
    "import math\n",
    "\n",
    "import matplotlib.pyplot as plt\n",
    "import numpy as np\n",
    "import torch\n",
    "from torch import nn\n",
    "\n",
    "from Utils import seed, load_data, get_train_dataloader, get_test_dataloader, mean_absolute_percentage_error, \\\n",
    "    model_to_log, split_x_train, load_data_phase\n",
    "\n",
    "%load_ext autoreload\n",
    "%autoreload 2\n",
    "\n",
    "device = torch.device(\"cuda\" if torch.cuda.is_available() else \"cpu\")\n",
    "# device = \"cpu\"\n",
    "\n",
    "# Change this flag if you want to use wandb\n",
    "use_wandb = False\n",
    "\n",
    "if use_wandb:\n",
    "    import wandb\n",
    "\n",
    "    with open('wandb_key') as key_file:\n",
    "        wandb_key = key_file.readline()\n",
    "    wandb.login(key=wandb_key)\n",
    "\n",
    "seed(2)"
   ],
   "metadata": {
    "collapsed": false
   }
  },
  {
   "cell_type": "code",
   "execution_count": 19,
   "outputs": [],
   "source": [
    "def double_conv_block(in_channels: int, out_channels: int, kernel_size):\n",
    "    return nn.Sequential(\n",
    "        nn.Conv2d(in_channels, out_channels, kernel_size=kernel_size, padding=0),\n",
    "        nn.Conv2d(out_channels, out_channels, kernel_size=kernel_size, padding=0),\n",
    "        nn.BatchNorm2d(out_channels),\n",
    "        nn.ReLU(),\n",
    "        nn.MaxPool2d(kernel_size=2, stride=2)\n",
    "    )\n",
    "\n",
    "\n",
    "def get_model(input_dim, output_dim):\n",
    "    conv_part = nn.Sequential(\n",
    "        double_conv_block(input_dim[0], 16, 3),\n",
    "        double_conv_block(16, 32, 3),\n",
    "        double_conv_block(32, 64, 3),\n",
    "        nn.Flatten())\n",
    "\n",
    "    x = torch.unsqueeze(torch.zeros(input_dim), 0)\n",
    "    size = conv_part.forward(x).size()[1]\n",
    "    print('Flatten size:', size)\n",
    "\n",
    "    model = nn.Sequential(\n",
    "        conv_part,\n",
    "        nn.Linear(size, 256),\n",
    "        # nn.Dropout(p=0.01),\n",
    "        nn.ReLU(),\n",
    "        nn.Linear(256, 64),\n",
    "        # nn.Dropout(p=0.01),\n",
    "        nn.ReLU(),\n",
    "        nn.Linear(64, output_dim)\n",
    "    )\n",
    "\n",
    "    pytorch_total_params = sum(p.numel() for p in model.parameters() if p.requires_grad)\n",
    "    print(pytorch_total_params)\n",
    "\n",
    "    model.to(device)\n",
    "    return model"
   ],
   "metadata": {
    "collapsed": false
   }
  },
  {
   "cell_type": "code",
   "execution_count": 20,
   "outputs": [],
   "source": [
    "def load_model(file, input_dim, output_dim):\n",
    "    model = get_model(input_dim, output_dim)\n",
    "    model.load_state_dict(torch.load(file)['model_state_dict'])\n",
    "    model.eval()\n",
    "    return model"
   ],
   "metadata": {
    "collapsed": false
   }
  },
  {
   "cell_type": "code",
   "execution_count": 21,
   "outputs": [],
   "source": [
    "def train_epoch(model, loss, optimizer, dataloader, do_train):\n",
    "    running_loss = 0.\n",
    "\n",
    "    # Iterate over data.\n",
    "    for inputs, targets in dataloader:\n",
    "        inputs = inputs.to(device)\n",
    "        targets = targets.to(device)\n",
    "\n",
    "        optimizer.zero_grad()\n",
    "\n",
    "        # forward and backward\n",
    "        with torch.set_grad_enabled(do_train):\n",
    "            preds = model(inputs)\n",
    "            loss_value = loss(preds, targets)\n",
    "\n",
    "            # backward + optimize only if in training phase\n",
    "            if do_train:\n",
    "                loss_value.backward()\n",
    "                optimizer.step()\n",
    "\n",
    "        # statistics\n",
    "        running_loss += loss_value.item()\n",
    "\n",
    "    epoch_loss = running_loss / len(dataloader)\n",
    "\n",
    "    return epoch_loss\n",
    "\n",
    "\n",
    "def train_model(model, loss, optimizer, scheduler, train_dataloader, val_dataloader, num_epochs, config):\n",
    "    best_val_loss = math.inf\n",
    "    for epoch in range(num_epochs):\n",
    "        train_loss = 0\n",
    "        val_loss = 0\n",
    "\n",
    "        # Each epoch has a training and validation phase\n",
    "        for phase in ['train', 'val']:\n",
    "            if phase == 'train':\n",
    "                dataloader = train_dataloader\n",
    "                model.train()  # Set model to training mode\n",
    "            else:\n",
    "                dataloader = val_dataloader\n",
    "                model.eval()  # Set model to evaluate mode\n",
    "\n",
    "            epoch_loss = train_epoch(model, loss, optimizer, dataloader, phase == 'train')\n",
    "\n",
    "            if phase == 'train':\n",
    "                scheduler.step()\n",
    "\n",
    "            if phase == 'train':\n",
    "                train_loss = epoch_loss\n",
    "            else:\n",
    "                val_loss = epoch_loss\n",
    "\n",
    "            if phase == 'val' and best_val_loss > epoch_loss:\n",
    "                print('new best val loss', epoch_loss, 'epoch', epoch)\n",
    "                best_val_loss = epoch_loss\n",
    "                torch.save({\n",
    "                    'epoch': epoch,\n",
    "                    'model_state_dict': model.state_dict(),\n",
    "                    'optimizer_state_dict': optimizer.state_dict(),\n",
    "                    'loss': epoch_loss,\n",
    "                    'model_name': config['exp_name']\n",
    "                }, f'{config[\"exp_name\"]}.pth')\n",
    "\n",
    "        if use_wandb and phase == 'val':\n",
    "            wandb.log({f'train loss': train_loss, f'val loss': val_loss})\n",
    "\n",
    "    return model"
   ],
   "metadata": {
    "collapsed": false
   }
  },
  {
   "cell_type": "code",
   "execution_count": 22,
   "outputs": [],
   "source": [
    "lr = 1e-3\n",
    "epochs = 200\n",
    "batch_size = 4\n",
    "step_size = 20\n",
    "gamma = 0.5\n",
    "params = ['V']\n",
    "\n",
    "config = {\n",
    "    \"lr\": lr,\n",
    "    \"epochs\": epochs,\n",
    "    \"bs\": batch_size,\n",
    "    \"sched\": 'StepLR',\n",
    "    \"sched_ss\": step_size,\n",
    "    \"sched_g\": gamma,\n",
    "    \"optim\": 'Adam',\n",
    "    \"pref\": 'forward',\n",
    "}\n",
    "important_keys = ['optim', 'bs', 'pref']\n",
    "config['exp_name'] = '_'.join(map(lambda key: f'{key}={config[key]}', important_keys))\n",
    "model_file_name = config['exp_name']"
   ],
   "metadata": {
    "collapsed": false
   }
  },
  {
   "cell_type": "code",
   "execution_count": 23,
   "outputs": [
    {
     "name": "stdout",
     "output_type": "stream",
     "text": [
      "125\n"
     ]
    }
   ],
   "source": [
    "x_train, y_train = load_data_phase('Data_V_D', params, (64, 64))\n",
    "mean = y_train.mean(axis=0)\n",
    "dispersion = ((y_train - mean) ** 2).mean(axis=0)\n",
    "y_train = (y_train - mean) / np.sqrt(dispersion)"
   ],
   "metadata": {
    "collapsed": false
   }
  },
  {
   "cell_type": "code",
   "execution_count": 24,
   "outputs": [],
   "source": [
    "def norm(array):\n",
    "    return (array - mean) / np.sqrt(dispersion)\n",
    "\n",
    "\n",
    "def denorm(array):\n",
    "    return array * np.sqrt(dispersion) + mean"
   ],
   "metadata": {
    "collapsed": false
   }
  },
  {
   "cell_type": "code",
   "execution_count": 25,
   "outputs": [
    {
     "name": "stdout",
     "output_type": "stream",
     "text": [
      "4\n"
     ]
    }
   ],
   "source": [
    "x_val, y_val = load_data_phase('Test', params, (64, 64))\n",
    "y_val = norm(y_val)\n",
    "x_val, y_val = map(lambda x: torch.tensor(x, dtype=torch.float, device=device), (x_val, y_val))"
   ],
   "metadata": {
    "collapsed": false
   }
  },
  {
   "cell_type": "code",
   "execution_count": 26,
   "outputs": [
    {
     "name": "stdout",
     "output_type": "stream",
     "text": [
      "test files [7, 10, 11, 21, 32, 39, 46, 85, 94, 103, 106, 108, 109, 110, 121, 122]\n"
     ]
    }
   ],
   "source": [
    "x_train, y_train, x_test, y_test = map(lambda x: torch.tensor(x, dtype=torch.float, device=device), split_x_train(x_train, y_train, 16))\n",
    "\n",
    "\n",
    "train_dataloader = get_train_dataloader(x_train, y_train, batch_size)\n",
    "test_dataloader = get_test_dataloader(x_test, y_test, batch_size)"
   ],
   "metadata": {
    "collapsed": false
   }
  },
  {
   "cell_type": "code",
   "execution_count": 27,
   "outputs": [
    {
     "name": "stdout",
     "output_type": "stream",
     "text": [
      "Flatten size: 1024\n",
      "351361\n"
     ]
    }
   ],
   "source": [
    "model = get_model(x_train[0].size(), len(params))\n",
    "\n",
    "config['model'] = model_to_log(model)\n",
    "\n",
    "loss_func = torch.nn.L1Loss()\n",
    "# loss_func = torch.nn.MSELoss()\n",
    "optimizer = torch.optim.Adam(model.parameters(), lr=lr)\n",
    "scheduler = torch.optim.lr_scheduler.StepLR(optimizer, step_size=step_size, gamma=gamma)"
   ],
   "metadata": {
    "collapsed": false
   }
  },
  {
   "cell_type": "code",
   "execution_count": 28,
   "outputs": [],
   "source": [
    "if use_wandb:\n",
    "    run = wandb.init(project='Chemistry', config=config)\n",
    "    wandb.run.name = config['exp_name']"
   ],
   "metadata": {
    "collapsed": false
   }
  },
  {
   "cell_type": "code",
   "execution_count": 29,
   "outputs": [
    {
     "name": "stdout",
     "output_type": "stream",
     "text": [
      "new best val loss 0.518353745341301 epoch 0\n",
      "new best val loss 0.4341421388089657 epoch 1\n",
      "new best val loss 0.4074144810438156 epoch 2\n",
      "new best val loss 0.2173982635140419 epoch 3\n",
      "new best val loss 0.17501406371593475 epoch 8\n",
      "new best val loss 0.09402718022465706 epoch 12\n",
      "new best val loss 0.07752497773617506 epoch 18\n",
      "new best val loss 0.07471704855561256 epoch 26\n",
      "new best val loss 0.06470715347677469 epoch 45\n",
      "new best val loss 0.06395232491195202 epoch 58\n",
      "new best val loss 0.05614353809505701 epoch 76\n"
     ]
    }
   ],
   "source": [
    "model = train_model(model, loss_func, optimizer, scheduler, train_dataloader, test_dataloader, epochs, config)"
   ],
   "metadata": {
    "collapsed": false
   }
  },
  {
   "cell_type": "code",
   "execution_count": 30,
   "outputs": [
    {
     "name": "stdout",
     "output_type": "stream",
     "text": [
      "Flatten size: 1024\n",
      "351361\n"
     ]
    }
   ],
   "source": [
    "best_model = load_model(f'{config[\"exp_name\"]}.pth', x_train[0].size(), len(params))"
   ],
   "metadata": {
    "collapsed": false
   }
  },
  {
   "cell_type": "code",
   "execution_count": 31,
   "outputs": [],
   "source": [
    "y_test_result = best_model.forward(x_test).detach()\n",
    "y_train_result = best_model.forward(x_train).detach()\n",
    "y_val_result = best_model.forward(x_val).detach()"
   ],
   "metadata": {
    "collapsed": false
   }
  },
  {
   "cell_type": "code",
   "execution_count": 32,
   "outputs": [],
   "source": [
    "y_test_result_np = y_test_result.cpu().numpy()\n",
    "y_train_result_np = y_train_result.cpu().numpy()\n",
    "y_val_result_np = y_val_result.detach().cpu().numpy()\n",
    "\n",
    "y_test_np = y_test.detach().cpu().numpy()\n",
    "y_train_np = y_train.detach().cpu().numpy()\n",
    "y_val_np = y_val.detach().cpu().numpy()"
   ],
   "metadata": {
    "collapsed": false
   }
  },
  {
   "cell_type": "code",
   "execution_count": 33,
   "outputs": [],
   "source": [
    "def show(i):\n",
    "    sort = y_train_np[:, i].argsort(axis=0).reshape((-1,))\n",
    "\n",
    "    fig = plt.figure(figsize=(12, 12))\n",
    "    ax_train = fig.add_subplot(3, 1, 1)\n",
    "    ax_train.plot(denorm(y_train_np[sort][:, i]), 'go', label='train')\n",
    "    ax_train.plot(denorm(y_train_result_np[sort][:, i]), 'ro', label='result')\n",
    "    ax_train.set_ylabel(params[i])\n",
    "    ax_train.set_xlabel('num File')\n",
    "    ax_train.legend()\n",
    "\n",
    "    sort = y_test_np[:, i].argsort(axis=0).reshape((-1,))\n",
    "\n",
    "    ax_test = fig.add_subplot(3, 1, 2)\n",
    "    ax_test.plot(denorm(y_test_np[sort][:, i]), 'go', label='test')\n",
    "    ax_test.plot(denorm(y_test_result_np[sort][:, i]), 'ro', label='result')\n",
    "    ax_test.set_ylabel(params[i])\n",
    "    ax_test.set_xlabel('num File')\n",
    "    ax_test.legend()\n",
    "\n",
    "    sort = y_val_np[:, i].argsort(axis=0).reshape((-1,))\n",
    "\n",
    "    ax_test = fig.add_subplot(3, 1, 3)\n",
    "    ax_test.plot(denorm(y_val_np[sort][:, i]), 'go', label='val')\n",
    "    ax_test.plot(denorm(y_val_result_np[sort][:, i]), 'ro', label='result')\n",
    "    ax_test.set_ylabel(params[i])\n",
    "    ax_test.set_xlabel('num File')\n",
    "    ax_test.legend()\n",
    "\n",
    "    plt.show()"
   ],
   "metadata": {
    "collapsed": false
   }
  },
  {
   "cell_type": "code",
   "execution_count": 34,
   "outputs": [
    {
     "data": {
      "text/plain": "<Figure size 1200x1200 with 3 Axes>",
      "image/png": "[encoded data removed]"
     },
     "metadata": {},
     "output_type": "display_data"
    }
   ],
   "source": [
    "for i, param in enumerate(params):\n",
    "    show(i)"
   ],
   "metadata": {
    "collapsed": false
   }
  },
  {
   "cell_type": "code",
   "execution_count": 35,
   "outputs": [],
   "source": [
    "def get_loss(result, real, i):\n",
    "    error_p = mean_absolute_percentage_error(result[:, i], real[:, i]).item()\n",
    "    error_a = loss_func(result[:, i], real[:, i]).item()\n",
    "    return round(error_p, 6), round(error_a, 6)\n",
    "\n",
    "def print_errors(i):\n",
    "    train_error_p, train_error_a = get_loss(y_train_result, y_train, i)\n",
    "    print('train error', train_error_a)\n",
    "    test_error_p, test_error_a = get_loss(y_test_result, y_test, i)\n",
    "    print('test error', test_error_a)\n",
    "    val_error_p, val_error_a = get_loss(y_val_result, y_val, i)\n",
    "    print('val error', val_error_a)"
   ],
   "metadata": {
    "collapsed": false
   }
  },
  {
   "cell_type": "code",
   "execution_count": 36,
   "outputs": [
    {
     "name": "stdout",
     "output_type": "stream",
     "text": [
      "V errors\n",
      "train error 0.031856\n",
      "test error 0.056144\n",
      "val error 1.248768\n"
     ]
    }
   ],
   "source": [
    "for i, param in enumerate(params):\n",
    "    print(param, 'errors')\n",
    "    print_errors(i)"
   ],
   "metadata": {
    "collapsed": false
   }
  },
  {
   "cell_type": "code",
   "execution_count": 37,
   "outputs": [],
   "source": [
    "if use_wandb:\n",
    "    wandb.finish()"
   ],
   "metadata": {
    "collapsed": false
   }
  },
  {
   "cell_type": "code",
   "execution_count": 37,
   "outputs": [],
   "source": [],
   "metadata": {
    "collapsed": false
   }
  }
 ],
 "metadata": {
  "kernelspec": {
   "display_name": "Python 3",
   "language": "python",
   "name": "python3"
  },
  "language_info": {
   "codemirror_mode": {
    "name": "ipython",
    "version": 2
   },
   "file_extension": ".py",
   "mimetype": "text/x-python",
   "name": "python",
   "nbconvert_exporter": "python",
   "pygments_lexer": "ipython2",
   "version": "2.7.6"
  }
 },
 "nbformat": 4,
 "nbformat_minor": 0
}
